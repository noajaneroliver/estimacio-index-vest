{
  "cells": [
    {
      "cell_type": "code",
      "execution_count": 61,
      "metadata": {
        "colab": {
          "base_uri": "https://localhost:8080/"
        },
        "id": "toyrC8cVe4Oo",
        "outputId": "5a00a794-0725-483a-f5b0-8a8432d4f01c"
      },
      "outputs": [
        {
          "output_type": "stream",
          "name": "stdout",
          "text": [
            "Drive already mounted at /content/drive; to attempt to forcibly remount, call drive.mount(\"/content/drive\", force_remount=True).\n"
          ]
        }
      ],
      "source": [
        "from google.colab import drive\n",
        "drive.mount('/content/drive')"
      ]
    },
    {
      "cell_type": "code",
      "execution_count": 62,
      "metadata": {
        "id": "VNHEfpYuJQFn"
      },
      "outputs": [],
      "source": [
        "import tensorflow as tf\n",
        "import numpy as np\n",
        "import torch\n",
        "import math\n",
        "import pickle\n",
        "from tensorflow.keras.layers import Conv1D, MaxPooling1D, Flatten, Dense\n",
        "from matplotlib import pyplot as plt\n",
        "from sklearn.metrics import mean_squared_error\n",
        "from tensorflow.keras.models import Sequential, Model\n",
        "from tensorflow.keras.layers import LSTM, Dense, GRU\n",
        "from sklearn.utils.class_weight import compute_sample_weight\n",
        "from sklearn.preprocessing import MinMaxScaler\n",
        "from keras.models import load_model\n",
        "from keras.layers import Layer, Flatten, LeakyReLU\n",
        "from keras.layers import Input, Reshape, Dense, Lambda\n",
        "from keras.layers import Conv2D, MaxPooling2D, UpSampling2D\n",
        "from keras import backend as K\n",
        "from keras.optimizers import Adam, SGD, RMSprop\n",
        "from keras.losses import mse, binary_crossentropy\n",
        "from keras import regularizers, activations, initializers, constraints\n",
        "from keras.constraints import Constraint\n",
        "from keras.callbacks import History\n",
        "from keras.utils import plot_model"
      ]
    },
    {
      "cell_type": "code",
      "execution_count": 63,
      "metadata": {
        "id": "VxzW16m6cNEh"
      },
      "outputs": [],
      "source": [
        "ROA = '/content/drive/MyDrive/df_ROA_postu.pkl'\n",
        "ROC = '/content/drive/MyDrive/df_ROC_postu.pkl'\n",
        "RGA = '/content/drive/MyDrive/df_RGA_postu.pkl'\n",
        "RGC = '/content/drive/MyDrive/df_RGC_postu.pkl'\n",
        "with open(ROA, 'rb') as file:\n",
        "    dataROA = pickle.load(file)\n",
        "with open(ROC, 'rb') as file:\n",
        "    dataROC = pickle.load(file)\n",
        "with open(RGA, 'rb') as file:\n",
        "    dataRGA = pickle.load(file)\n",
        "with open(RGC, 'rb') as file:\n",
        "    dataRGC = pickle.load(file)"
      ]
    },
    {
      "cell_type": "code",
      "execution_count": 64,
      "metadata": {
        "colab": {
          "base_uri": "https://localhost:8080/"
        },
        "id": "oPy7mjLDAtWi",
        "outputId": "863b3feb-45f0-4a37-b121-6fada7edd2d4"
      },
      "outputs": [
        {
          "output_type": "execute_result",
          "data": {
            "text/plain": [
              "(115, 6)"
            ]
          },
          "metadata": {},
          "execution_count": 64
        }
      ],
      "source": [
        "dataROA = dataROA.reset_index(drop=True)\n",
        "dataROC = dataROC.reset_index(drop=True)\n",
        "dataRGA = dataRGA.reset_index(drop=True)\n",
        "dataRGC = dataRGC.reset_index(drop=True)\n",
        "dataRGC.shape"
      ]
    },
    {
      "cell_type": "code",
      "execution_count": 65,
      "metadata": {
        "id": "wxuGN-fBPogg"
      },
      "outputs": [],
      "source": [
        "dataROA = dataROA.drop(dataROA[dataROA['Indice_VIS'] == '-'].index)\n",
        "dataROC = dataROC.drop(dataROC[dataROC['Indice_VIS'] == '-'].index)\n",
        "dataRGA = dataRGA.drop(dataRGA[dataRGA['Indice_VIS'] == '-'].index)\n",
        "dataRGC = dataRGC.drop(dataRGC[dataRGC['Indice_VIS'] == '-'].index)\n",
        "\n",
        "dataROA = dataROA.drop(dataROA[dataROA['Indice_VEST'] == '-'].index)\n",
        "dataROC = dataROC.drop(dataROC[dataROC['Indice_VEST'] == '-'].index)\n",
        "dataRGA = dataRGA.drop(dataRGA[dataRGA['Indice_VEST'] == '-'].index)\n",
        "dataRGC = dataRGC.drop(dataRGC[dataRGC['Indice_VEST'] == '-'].index)"
      ]
    },
    {
      "cell_type": "code",
      "source": [
        "dataROA.columns"
      ],
      "metadata": {
        "colab": {
          "base_uri": "https://localhost:8080/"
        },
        "id": "gfaoi6_92Lt9",
        "outputId": "40c2e9ab-dbd1-4bad-85ab-e7eb7349b321"
      },
      "execution_count": 66,
      "outputs": [
        {
          "output_type": "execute_result",
          "data": {
            "text/plain": [
              "Index(['id', 'x', 'y', 'Indice_VIS', 'Indice_SOM', 'Indice_VEST'], dtype='object')"
            ]
          },
          "metadata": {},
          "execution_count": 66
        }
      ]
    },
    {
      "cell_type": "code",
      "source": [
        "labels = dataRGC['Indice_VEST']/100"
      ],
      "metadata": {
        "id": "yP2An01F-RdL"
      },
      "execution_count": 67,
      "outputs": []
    },
    {
      "cell_type": "code",
      "execution_count": 68,
      "metadata": {
        "colab": {
          "base_uri": "https://localhost:8080/"
        },
        "id": "6lBkCnxycc48",
        "outputId": "859f67c1-55aa-442c-e35b-a5b8d3a3d589"
      },
      "outputs": [
        {
          "output_type": "execute_result",
          "data": {
            "text/plain": [
              "(115, 2)"
            ]
          },
          "metadata": {},
          "execution_count": 68
        }
      ],
      "source": [
        "X = dataRGC.drop(columns = ['id','Indice_VIS','Indice_VEST','Indice_SOM'])\n",
        "X = X.reset_index(drop=True)\n",
        "X.shape"
      ]
    },
    {
      "cell_type": "code",
      "execution_count": 69,
      "metadata": {
        "id": "hLwt-whyJrjq"
      },
      "outputs": [],
      "source": [
        "X_3d = np.empty((X.shape[0], X.shape[1], len(X.values[0][0])), dtype=object) #conversió dades en una matriu numpy\n",
        "for i in range(X.shape[0]):\n",
        "    for j in range(X.shape[1]):\n",
        "        X_3d[i, j] = tf.constant(X.values[i][j])"
      ]
    },
    {
      "cell_type": "code",
      "execution_count": 70,
      "metadata": {
        "colab": {
          "base_uri": "https://localhost:8080/"
        },
        "id": "y-dDvV0LYrdS",
        "outputId": "28f881e1-79d9-4a6c-fd83-eb2107e8f851"
      },
      "outputs": [
        {
          "output_type": "execute_result",
          "data": {
            "text/plain": [
              "(2, 1199)"
            ]
          },
          "metadata": {},
          "execution_count": 70
        }
      ],
      "source": [
        "X_3d[0].shape #cada mostra te mida 2x1199 (dos files x i y)"
      ]
    },
    {
      "cell_type": "code",
      "source": [
        "#funcio que redimensiona les dades a 2d per poder aplicar minmaxscaler, NORM PER CARACTERÍSTIQUES\n",
        "class MinMaxScaler3D(MinMaxScaler):\n",
        "    def fit_transform(self, X, y=None):\n",
        "        x = np.reshape(X, newshape=(X.shape[0]*X.shape[1], X.shape[2]))\n",
        "        return np.reshape(super().fit_transform(x, y=y), newshape=X.shape)"
      ],
      "metadata": {
        "id": "-mFvMa1Q4WFs"
      },
      "execution_count": 71,
      "outputs": []
    },
    {
      "cell_type": "code",
      "execution_count": 72,
      "metadata": {
        "id": "uBfqLlzpu6Gg"
      },
      "outputs": [],
      "source": [
        "scaler = MinMaxScaler3D()\n",
        "X_2d = scaler.fit_transform(X_3d)"
      ]
    },
    {
      "cell_type": "code",
      "execution_count": 73,
      "metadata": {
        "colab": {
          "base_uri": "https://localhost:8080/"
        },
        "id": "-a7IvUcuY9sb",
        "outputId": "3f556d0e-0efc-46e1-ca68-43c48e4d754e"
      },
      "outputs": [
        {
          "output_type": "execute_result",
          "data": {
            "text/plain": [
              "array([0.33198846, 0.33733468, 0.34922202, ..., 0.21417513, 0.21318664,\n",
              "       0.21256159])"
            ]
          },
          "metadata": {},
          "execution_count": 73
        }
      ],
      "source": [
        "X_2d[0][0]"
      ]
    },
    {
      "cell_type": "code",
      "execution_count": 74,
      "metadata": {
        "colab": {
          "base_uri": "https://localhost:8080/"
        },
        "id": "iGm2fyy3rfNz",
        "outputId": "0e9c1690-dc68-42c4-dfa7-4e86a391ad32"
      },
      "outputs": [
        {
          "output_type": "stream",
          "name": "stdout",
          "text": [
            "(94, 2, 1199) (94,) (21, 2, 1199) (21,)\n"
          ]
        }
      ],
      "source": [
        "X_train = X_2d[:94].astype(np.float32)\n",
        "y_train = labels[:94].astype(np.float32)\n",
        "y_Train = y_train.values\n",
        "X_test = X_2d[94:].astype(np.float32)\n",
        "y_test = labels[94:].astype(np.float32)\n",
        "y_test = y_test.values\n",
        "print(X_train.shape, y_train.shape, X_test.shape, y_test.shape)"
      ]
    },
    {
      "cell_type": "code",
      "execution_count": 75,
      "metadata": {
        "id": "9g7Wk4ABnph5"
      },
      "outputs": [],
      "source": [
        "class Autoencoder:\n",
        "\n",
        "    def __init__(self, x_sz, y_sz, z_dim=64, variational=False):\n",
        "        self.x_sz = x_sz #dimensions de l'input\n",
        "        self.y_sz = y_sz\n",
        "        self.z_dim = z_dim\n",
        "        self.variational = variational\n",
        "        self.encoder = None\n",
        "        self.decoder = None\n",
        "        self.autoencoder = None\n",
        "\n",
        "    def build_encoder(self):\n",
        "        input_data = Input(shape=(self.x_sz,self.y_sz,))\n",
        "        encoded = Dense(256, activation='relu')(input_data)\n",
        "        encoded = Dense(128, activation='relu')(encoded)\n",
        "        encoded = Dense(self.z_dim, activation='relu')(encoded)\n",
        "        return input_data, encoded\n",
        "\n",
        "    def build_decoder(self, encoded):\n",
        "        decoded = Dense(128, activation='relu')(encoded)\n",
        "        decoded = Dense(256, activation='relu')(decoded)\n",
        "        decoded = Dense((self.y_sz), activation='sigmoid')(decoded)\n",
        "        return decoded\n",
        "\n",
        "    def train_autoencoder(self, x_train):\n",
        "        input_data, encoded = self.build_encoder()\n",
        "        decoded = self.build_decoder(encoded)\n",
        "\n",
        "        self.autoencoder = Model(input_data, decoded)\n",
        "        self.autoencoder.compile(optimizer='adam', loss='mse')\n",
        "\n",
        "        self.encoder = Model(input_data, encoded)\n",
        "        decoder_input = Input(shape=(self.z_dim,))\n",
        "        decoder_output = self.build_decoder(decoder_input)\n",
        "        self.decoder = Model(decoder_input, decoder_output)"
      ]
    },
    {
      "cell_type": "code",
      "execution_count": 76,
      "metadata": {
        "id": "DcF55f3mqhfT"
      },
      "outputs": [],
      "source": [
        "autoencoder = Autoencoder(x_sz=X_train.shape[-2], y_sz=X_train.shape[-1], z_dim=64)\n",
        "autoencoder.train_autoencoder(X_train)"
      ]
    },
    {
      "cell_type": "code",
      "execution_count": 77,
      "metadata": {
        "colab": {
          "base_uri": "https://localhost:8080/"
        },
        "id": "YjQM9cuZTe1G",
        "outputId": "e285e210-ed20-46b0-d156-ed1f76d3dde8"
      },
      "outputs": [
        {
          "output_type": "stream",
          "name": "stderr",
          "text": [
            "WARNING:tensorflow:5 out of the last 11 calls to <function Model.make_predict_function.<locals>.predict_function at 0x7a5b3acdec20> triggered tf.function retracing. Tracing is expensive and the excessive number of tracings could be due to (1) creating @tf.function repeatedly in a loop, (2) passing tensors with different shapes, (3) passing Python objects instead of tensors. For (1), please define your @tf.function outside of the loop. For (2), @tf.function has reduce_retracing=True option that can avoid unnecessary retracing. For (3), please refer to https://www.tensorflow.org/guide/function#controlling_retracing and https://www.tensorflow.org/api_docs/python/tf/function for  more details.\n"
          ]
        },
        {
          "output_type": "stream",
          "name": "stdout",
          "text": [
            "1/1 [==============================] - 0s 243ms/step\n"
          ]
        }
      ],
      "source": [
        "#reconstruccions del decoder\n",
        "decoded_imgs = autoencoder.autoencoder.predict(X_test)"
      ]
    },
    {
      "cell_type": "code",
      "execution_count": 78,
      "metadata": {
        "colab": {
          "base_uri": "https://localhost:8080/"
        },
        "id": "URvI04JzUP6C",
        "outputId": "a41872d3-1697-4b8f-ab92-5a585fa54ec5"
      },
      "outputs": [
        {
          "output_type": "stream",
          "name": "stdout",
          "text": [
            "MSE promig: 0.0631\n"
          ]
        }
      ],
      "source": [
        "# Calcular el MSE promig\n",
        "mse = np.mean(np.square(X_test - decoded_imgs))\n",
        "print(\"MSE promig: %.4f\" % mse)"
      ]
    },
    {
      "cell_type": "code",
      "execution_count": 79,
      "metadata": {
        "colab": {
          "base_uri": "https://localhost:8080/"
        },
        "id": "MgE-I8BxUyec",
        "outputId": "baff701b-1768-4db0-9391-ccdb83a74797"
      },
      "outputs": [
        {
          "output_type": "stream",
          "name": "stdout",
          "text": [
            "3/3 [==============================] - 0s 5ms/step\n",
            "1/1 [==============================] - 0s 27ms/step\n"
          ]
        }
      ],
      "source": [
        "X_train_reduced = autoencoder.encoder.predict(X_train)\n",
        "X_test_reduced = autoencoder.encoder.predict(X_test)"
      ]
    },
    {
      "cell_type": "code",
      "source": [
        "X_train_reduced.shape"
      ],
      "metadata": {
        "colab": {
          "base_uri": "https://localhost:8080/"
        },
        "id": "3R2968_BApVZ",
        "outputId": "44995719-acae-490a-a54b-3987a4a1fd28"
      },
      "execution_count": 80,
      "outputs": [
        {
          "output_type": "execute_result",
          "data": {
            "text/plain": [
              "(94, 2, 64)"
            ]
          },
          "metadata": {},
          "execution_count": 80
        }
      ]
    },
    {
      "cell_type": "code",
      "source": [
        "X_train_reduced = np.reshape(X_train_reduced,(X_train_reduced.shape[0],X_train_reduced.shape[2],X_train_reduced.shape[1]))\n",
        "X_test_reduced = np.reshape(X_test_reduced,(X_test_reduced.shape[0],X_test_reduced.shape[2],X_test_reduced.shape[1]))"
      ],
      "metadata": {
        "id": "r0Keg4dds1Mg"
      },
      "execution_count": 81,
      "outputs": []
    },
    {
      "cell_type": "code",
      "execution_count": 82,
      "metadata": {
        "colab": {
          "base_uri": "https://localhost:8080/"
        },
        "id": "Yhfi7hyjU0yc",
        "outputId": "8ec3fce1-1c2e-4109-ee76-1dd3bc370442"
      },
      "outputs": [
        {
          "output_type": "stream",
          "name": "stdout",
          "text": [
            "Model: \"sequential_5\"\n",
            "_________________________________________________________________\n",
            " Layer (type)                Output Shape              Param #   \n",
            "=================================================================\n",
            " gru_9 (GRU)                 (None, 64, 128)           50688     \n",
            "                                                                 \n",
            " gru_10 (GRU)                (None, 64)                37248     \n",
            "                                                                 \n",
            " dense_37 (Dense)            (None, 32)                2080      \n",
            "                                                                 \n",
            " dense_38 (Dense)            (None, 1)                 33        \n",
            "                                                                 \n",
            "=================================================================\n",
            "Total params: 90,049\n",
            "Trainable params: 90,049\n",
            "Non-trainable params: 0\n",
            "_________________________________________________________________\n"
          ]
        }
      ],
      "source": [
        "def build_model(lr=0.001, units_gru=128, units_gru_2=64, units_dense=32):\n",
        "    model = tf.keras.Sequential()\n",
        "\n",
        "    # Capa GRU 1 para procesar las secuencias temporales\n",
        "    model.add(GRU(units_gru, return_sequences=True, input_shape=(X_train_reduced.shape[1], X_train_reduced.shape[2])))\n",
        "\n",
        "    # Capa GRU 2 para capturar características a diferentes escalas\n",
        "    model.add(GRU(units_gru_2, return_sequences=False))\n",
        "\n",
        "    # Capa totalmente conectada para procesar características a nivel de píxeles\n",
        "    model.add(Dense(units_dense, activation='relu'))\n",
        "\n",
        "    # Capa totalmente conectada final con función de activación sigmoide para clasificación binaria\n",
        "    model.add(Dense(1, activation='sigmoid'))\n",
        "\n",
        "    optimizer = tf.keras.optimizers.Adam(learning_rate=lr)\n",
        "    model.compile(optimizer=optimizer, loss='mse', metrics=['mae'])\n",
        "\n",
        "    return model\n",
        "\n",
        "# Crear el modelo\n",
        "model = build_model()\n",
        "\n",
        "# Mostrar el resumen del modelo\n",
        "model.summary()\n"
      ]
    },
    {
      "cell_type": "code",
      "execution_count": 83,
      "metadata": {
        "colab": {
          "base_uri": "https://localhost:8080/"
        },
        "id": "RRHaHsd2bY2x",
        "outputId": "3a974114-ca36-4fbe-99c5-e3c1517d8e6f"
      },
      "outputs": [
        {
          "output_type": "stream",
          "name": "stdout",
          "text": [
            "Epoch 1/10\n",
            "6/6 [==============================] - 6s 257ms/step - loss: 0.2193 - mae: 0.4580 - val_loss: 0.1876 - val_mae: 0.4246\n",
            "Epoch 2/10\n",
            "6/6 [==============================] - 1s 97ms/step - loss: 0.2082 - mae: 0.4296 - val_loss: 0.1573 - val_mae: 0.3739\n",
            "Epoch 3/10\n",
            "6/6 [==============================] - 1s 101ms/step - loss: 0.2074 - mae: 0.4176 - val_loss: 0.1628 - val_mae: 0.3843\n",
            "Epoch 4/10\n",
            "6/6 [==============================] - 1s 149ms/step - loss: 0.2071 - mae: 0.4241 - val_loss: 0.1691 - val_mae: 0.3955\n",
            "Epoch 5/10\n",
            "6/6 [==============================] - 1s 148ms/step - loss: 0.2065 - mae: 0.4236 - val_loss: 0.1673 - val_mae: 0.3923\n",
            "Epoch 6/10\n",
            "6/6 [==============================] - 1s 153ms/step - loss: 0.2062 - mae: 0.4226 - val_loss: 0.1668 - val_mae: 0.3914\n",
            "Epoch 7/10\n",
            "6/6 [==============================] - 1s 157ms/step - loss: 0.2065 - mae: 0.4217 - val_loss: 0.1656 - val_mae: 0.3892\n",
            "Epoch 8/10\n",
            "6/6 [==============================] - 1s 151ms/step - loss: 0.2080 - mae: 0.4208 - val_loss: 0.1620 - val_mae: 0.3825\n",
            "Epoch 9/10\n",
            "6/6 [==============================] - 1s 118ms/step - loss: 0.2062 - mae: 0.4203 - val_loss: 0.1659 - val_mae: 0.3896\n",
            "Epoch 10/10\n",
            "6/6 [==============================] - 1s 95ms/step - loss: 0.2062 - mae: 0.4253 - val_loss: 0.1744 - val_mae: 0.4041\n"
          ]
        }
      ],
      "source": [
        "history = model.fit(X_train_reduced, y_train, epochs=10, batch_size=16, validation_data=(X_test_reduced, y_test))"
      ]
    },
    {
      "cell_type": "code",
      "source": [
        "loss = history.history['loss']\n",
        "mae = history.history['mae']\n",
        "val_loss = history.history['val_loss']\n",
        "val_mae = history.history['val_mae']\n",
        "\n",
        "plt.figure(figsize=(10, 5))\n",
        "\n",
        "plt.plot(loss, label='Training Loss')\n",
        "plt.plot(mae, label='Training MAE')\n",
        "plt.plot(val_loss, label='Validation Loss')\n",
        "plt.plot(val_mae, label='Validation MAE')\n",
        "\n",
        "plt.xlabel('Epoch')\n",
        "plt.ylabel('Value')\n",
        "plt.title('Training and Validation Loss / MAE')\n",
        "plt.legend()\n",
        "\n",
        "plt.tight_layout()\n",
        "plt.show()"
      ],
      "metadata": {
        "colab": {
          "base_uri": "https://localhost:8080/",
          "height": 507
        },
        "id": "YabosCI6FmR-",
        "outputId": "a6290f5a-d138-462c-d311-24080f56ff0c"
      },
      "execution_count": 84,
      "outputs": [
        {
          "output_type": "display_data",
          "data": {
            "text/plain": [
              "<Figure size 1000x500 with 1 Axes>"
            ],
            "image/png": "[encoded data removed]"
          },
          "metadata": {}
        }
      ]
    },
    {
      "cell_type": "code",
      "execution_count": 86,
      "metadata": {
        "colab": {
          "base_uri": "https://localhost:8080/"
        },
        "id": "BdfhuVRebtd9",
        "outputId": "dabe00e8-dcd1-4100-ddd3-e3b1118b50b2"
      },
      "outputs": [
        {
          "output_type": "stream",
          "name": "stdout",
          "text": [
            "1/1 [==============================] - 0s 45ms/step\n",
            "[0.61353284]          1.0\n",
            "[0.61214185]          1.0\n",
            "[0.67903984]          0.0\n",
            "[0.6183259]          1.0\n",
            "[0.62093383]          1.0\n",
            "[0.61723983]          1.0\n",
            "[0.6230222]          1.0\n",
            "[0.60034037]          0.0\n",
            "[0.613134]          0.0\n",
            "[0.6046908]          0.83178806\n",
            "[0.62135875]          0.83178806\n",
            "[0.5865107]          1.0\n",
            "[0.613028]          1.0\n",
            "[0.6088542]          1.0\n",
            "[0.6265381]          1.0\n",
            "[0.6190733]          1.0\n",
            "[0.6163875]          1.0\n",
            "[0.612649]          1.0\n",
            "[0.6163828]          1.0\n",
            "[0.61895216]          1.0\n",
            "[0.62021303]          1.0\n"
          ]
        }
      ],
      "source": [
        "y_pred = model.predict(X_test_reduced)\n",
        "for i in range(len(y_pred)):\n",
        "  print(y_pred[i],\"        \", y_test[i])"
      ]
    }
  ],
  "metadata": {
    "colab": {
      "provenance": []
    },
    "kernelspec": {
      "display_name": "Python 3",
      "name": "python3"
    },
    "language_info": {
      "name": "python"
    }
  },
  "nbformat": 4,
  "nbformat_minor": 0
}