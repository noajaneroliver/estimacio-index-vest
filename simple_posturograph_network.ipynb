{
  "cells": [
    {
      "cell_type": "code",
      "execution_count": 124,
      "metadata": {
        "colab": {
          "base_uri": "https://localhost:8080/"
        },
        "id": "toyrC8cVe4Oo",
        "outputId": "a9d002cf-c85b-4b70-93e2-683cc72e039b"
      },
      "outputs": [
        {
          "output_type": "stream",
          "name": "stdout",
          "text": [
            "Drive already mounted at /content/drive; to attempt to forcibly remount, call drive.mount(\"/content/drive\", force_remount=True).\n"
          ]
        }
      ],
      "source": [
        "from google.colab import drive\n",
        "drive.mount('/content/drive')"
      ]
    },
    {
      "cell_type": "code",
      "execution_count": 125,
      "metadata": {
        "id": "VNHEfpYuJQFn"
      },
      "outputs": [],
      "source": [
        "import tensorflow as tf\n",
        "import numpy as np\n",
        "import torch\n",
        "import math\n",
        "import pickle\n",
        "from tensorflow.keras.layers import Conv1D, MaxPooling1D, Flatten, Dense\n",
        "from matplotlib import pyplot as plt\n",
        "from sklearn.metrics import mean_squared_error\n",
        "from tensorflow.keras.models import Sequential, Model\n",
        "from tensorflow.keras.layers import LSTM, Dense, Dropout, Concatenate,GRU\n",
        "from sklearn.utils.class_weight import compute_sample_weight\n",
        "from sklearn.preprocessing import MinMaxScaler\n",
        "from keras.models import load_model\n",
        "from keras.layers import Layer, Flatten, LeakyReLU\n",
        "from keras.layers import Input, Reshape, Dense, Lambda\n",
        "from keras.layers import Conv2D, MaxPooling2D, UpSampling2D\n",
        "from keras import backend as K\n",
        "from keras.optimizers import Adam, SGD, RMSprop\n",
        "from keras.losses import mse, binary_crossentropy\n",
        "from keras import regularizers, activations, initializers, constraints\n",
        "from keras.constraints import Constraint\n",
        "from keras.callbacks import History\n",
        "from keras.utils import plot_model"
      ]
    },
    {
      "cell_type": "code",
      "execution_count": 126,
      "metadata": {
        "id": "VxzW16m6cNEh"
      },
      "outputs": [],
      "source": [
        "ROA = '/content/drive/MyDrive/df_ROA_postu.pkl'\n",
        "ROC = '/content/drive/MyDrive/df_ROC_postu.pkl'\n",
        "RGA = '/content/drive/MyDrive/df_RGA_postu.pkl'\n",
        "RGC = '/content/drive/MyDrive/df_RGC_postu.pkl'\n",
        "with open(ROA, 'rb') as file:\n",
        "    dataROA = pickle.load(file)\n",
        "with open(ROC, 'rb') as file:\n",
        "    dataROC = pickle.load(file)\n",
        "with open(RGA, 'rb') as file:\n",
        "    dataRGA = pickle.load(file)\n",
        "with open(RGC, 'rb') as file:\n",
        "    dataRGC = pickle.load(file)"
      ]
    },
    {
      "cell_type": "code",
      "execution_count": 127,
      "metadata": {
        "colab": {
          "base_uri": "https://localhost:8080/"
        },
        "id": "oPy7mjLDAtWi",
        "outputId": "06542162-b573-4e89-a64d-995a976d47d0"
      },
      "outputs": [
        {
          "output_type": "execute_result",
          "data": {
            "text/plain": [
              "(115, 6)"
            ]
          },
          "metadata": {},
          "execution_count": 127
        }
      ],
      "source": [
        "dataROA = dataROA.reset_index(drop=True)\n",
        "dataROC = dataROC.reset_index(drop=True)\n",
        "dataRGA = dataRGA.reset_index(drop=True)\n",
        "dataRGC = dataRGC.reset_index(drop=True)\n",
        "dataRGC.shape"
      ]
    },
    {
      "cell_type": "code",
      "execution_count": 128,
      "metadata": {
        "id": "wxuGN-fBPogg"
      },
      "outputs": [],
      "source": [
        "dataROA = dataROA.drop(dataROA[dataROA['Indice_VIS'] == '-'].index)\n",
        "dataROC = dataROC.drop(dataROC[dataROC['Indice_VIS'] == '-'].index)\n",
        "dataRGA = dataRGA.drop(dataRGA[dataRGA['Indice_VIS'] == '-'].index)\n",
        "dataRGC = dataRGC.drop(dataRGC[dataRGC['Indice_VIS'] == '-'].index)\n",
        "\n",
        "dataROA = dataROA.drop(dataROA[dataROA['Indice_VEST'] == '-'].index)\n",
        "dataROC = dataROC.drop(dataROC[dataROC['Indice_VEST'] == '-'].index)\n",
        "dataRGA = dataRGA.drop(dataRGA[dataRGA['Indice_VEST'] == '-'].index)\n",
        "dataRGC = dataRGC.drop(dataRGC[dataRGC['Indice_VEST'] == '-'].index)"
      ]
    },
    {
      "cell_type": "code",
      "source": [
        "dataROA.columns"
      ],
      "metadata": {
        "colab": {
          "base_uri": "https://localhost:8080/"
        },
        "id": "gfaoi6_92Lt9",
        "outputId": "12361027-cbb5-4bef-ce14-c53592b324ec"
      },
      "execution_count": 129,
      "outputs": [
        {
          "output_type": "execute_result",
          "data": {
            "text/plain": [
              "Index(['id', 'x', 'y', 'Indice_VIS', 'Indice_SOM', 'Indice_VEST'], dtype='object')"
            ]
          },
          "metadata": {},
          "execution_count": 129
        }
      ]
    },
    {
      "cell_type": "code",
      "source": [
        "labels = dataRGC['Indice_VEST']/100"
      ],
      "metadata": {
        "id": "JVJaWMh08Do0"
      },
      "execution_count": 130,
      "outputs": []
    },
    {
      "cell_type": "code",
      "execution_count": 131,
      "metadata": {
        "colab": {
          "base_uri": "https://localhost:8080/"
        },
        "id": "6lBkCnxycc48",
        "outputId": "d0282372-b207-4304-d587-6018b5ef0a64"
      },
      "outputs": [
        {
          "output_type": "execute_result",
          "data": {
            "text/plain": [
              "(115, 2)"
            ]
          },
          "metadata": {},
          "execution_count": 131
        }
      ],
      "source": [
        "X = dataRGC.drop(columns = ['id','Indice_VIS','Indice_VEST','Indice_SOM'])\n",
        "X = X.reset_index(drop=True)\n",
        "X.shape"
      ]
    },
    {
      "cell_type": "code",
      "execution_count": 132,
      "metadata": {
        "id": "hLwt-whyJrjq"
      },
      "outputs": [],
      "source": [
        "X_3d = np.empty((X.shape[0], X.shape[1], len(X.values[0][0])), dtype=object) #conversió dades en una matriu numpy\n",
        "for i in range(X.shape[0]):\n",
        "    for j in range(X.shape[1]):\n",
        "        X_3d[i, j] = tf.constant(X.values[i][j])"
      ]
    },
    {
      "cell_type": "code",
      "execution_count": 133,
      "metadata": {
        "colab": {
          "base_uri": "https://localhost:8080/"
        },
        "id": "y-dDvV0LYrdS",
        "outputId": "4ae15df7-3a46-4967-9e1f-be8c2e422cd1"
      },
      "outputs": [
        {
          "output_type": "execute_result",
          "data": {
            "text/plain": [
              "(2, 1199)"
            ]
          },
          "metadata": {},
          "execution_count": 133
        }
      ],
      "source": [
        "X_3d[0].shape #cada mostra te mida 2x1199 (dos files x i y)"
      ]
    },
    {
      "cell_type": "code",
      "source": [
        "#funcio que redimensiona les dades a 2d per poder aplicar minmaxscaler, NORM PER CARACTERÍSTIQUES\n",
        "class MinMaxScaler3D(MinMaxScaler):\n",
        "    def fit_transform(self, X, y=None):\n",
        "        x = np.reshape(X, newshape=(X.shape[0]*X.shape[1], X.shape[2]))\n",
        "        return np.reshape(super().fit_transform(x, y=y), newshape=X.shape)"
      ],
      "metadata": {
        "id": "-mFvMa1Q4WFs"
      },
      "execution_count": 134,
      "outputs": []
    },
    {
      "cell_type": "code",
      "execution_count": 135,
      "metadata": {
        "id": "uBfqLlzpu6Gg"
      },
      "outputs": [],
      "source": [
        "scaler = MinMaxScaler3D()\n",
        "X_2d = scaler.fit_transform(X_3d)"
      ]
    },
    {
      "cell_type": "code",
      "execution_count": 136,
      "metadata": {
        "colab": {
          "base_uri": "https://localhost:8080/"
        },
        "id": "-a7IvUcuY9sb",
        "outputId": "397f9ec4-77a2-4d81-f8c7-45bc00eae2cf"
      },
      "outputs": [
        {
          "output_type": "execute_result",
          "data": {
            "text/plain": [
              "array([0.33198846, 0.33733468, 0.34922202, ..., 0.21417513, 0.21318664,\n",
              "       0.21256159])"
            ]
          },
          "metadata": {},
          "execution_count": 136
        }
      ],
      "source": [
        "X_2d[0][0]"
      ]
    },
    {
      "cell_type": "code",
      "execution_count": 137,
      "metadata": {
        "colab": {
          "base_uri": "https://localhost:8080/"
        },
        "id": "iGm2fyy3rfNz",
        "outputId": "86fcacb3-70b0-40f5-8468-afeeb8c041b8"
      },
      "outputs": [
        {
          "output_type": "stream",
          "name": "stdout",
          "text": [
            "(94, 2, 1199) (94,) (21, 2, 1199) (21,)\n"
          ]
        }
      ],
      "source": [
        "X_train = X_2d[:94].astype(np.float32)\n",
        "y_train = labels[:94].astype(np.float32)\n",
        "y_train = y_train.values\n",
        "X_test = X_2d[94:].astype(np.float32)\n",
        "y_test = labels[94:].astype(np.float32)\n",
        "y_test = y_test.values\n",
        "print(X_train.shape, y_train.shape, X_test.shape, y_test.shape)"
      ]
    },
    {
      "cell_type": "code",
      "source": [
        "X_train = np.reshape(X_train, (X_train.shape[0], X_train.shape[2], X_train.shape[1]))\n",
        "X_test = np.reshape(X_test, (X_test.shape[0], X_test.shape[2], X_test.shape[1]))\n",
        "print(X_train.shape, X_test.shape)"
      ],
      "metadata": {
        "colab": {
          "base_uri": "https://localhost:8080/"
        },
        "id": "Iy2qxKUqyjzq",
        "outputId": "14d6422b-cc5e-42eb-deee-177a823e9f26"
      },
      "execution_count": 138,
      "outputs": [
        {
          "output_type": "stream",
          "name": "stdout",
          "text": [
            "(94, 1199, 2) (21, 1199, 2)\n"
          ]
        }
      ]
    },
    {
      "cell_type": "code",
      "execution_count": 139,
      "metadata": {
        "colab": {
          "base_uri": "https://localhost:8080/"
        },
        "id": "Yhfi7hyjU0yc",
        "outputId": "7f7afd69-7110-4923-9411-f2307fa2758d"
      },
      "outputs": [
        {
          "output_type": "stream",
          "name": "stdout",
          "text": [
            "Model: \"sequential_11\"\n",
            "_________________________________________________________________\n",
            " Layer (type)                Output Shape              Param #   \n",
            "=================================================================\n",
            " gru_22 (GRU)                (None, 1199, 128)         50688     \n",
            "                                                                 \n",
            " gru_23 (GRU)                (None, 64)                37248     \n",
            "                                                                 \n",
            " dense_10 (Dense)            (None, 32)                2080      \n",
            "                                                                 \n",
            " dense_11 (Dense)            (None, 1)                 33        \n",
            "                                                                 \n",
            "=================================================================\n",
            "Total params: 90,049\n",
            "Trainable params: 90,049\n",
            "Non-trainable params: 0\n",
            "_________________________________________________________________\n"
          ]
        }
      ],
      "source": [
        "def build_model(lr=0.001, units_gru=128, units_gru_2=64, units_dense=32):\n",
        "    model = tf.keras.Sequential()\n",
        "\n",
        "    # Capa GRU 1 para procesar las secuencias temporales\n",
        "    model.add(GRU(units_gru, return_sequences=True, input_shape=(X_train.shape[1], X_train.shape[2])))\n",
        "\n",
        "    # Capa GRU 2 para capturar características a diferentes escalas\n",
        "    model.add(GRU(units_gru_2, return_sequences=False))\n",
        "\n",
        "    # Capa totalmente conectada para procesar características a nivel de píxeles\n",
        "    model.add(Dense(units_dense, activation='relu'))\n",
        "\n",
        "    # Capa totalmente conectada final con función de activación sigmoide para clasificación binaria\n",
        "    model.add(Dense(1, activation='sigmoid'))\n",
        "\n",
        "    optimizer = tf.keras.optimizers.Adam(learning_rate=lr)\n",
        "    model.compile(optimizer=optimizer, loss='mse', metrics=['mae'])\n",
        "\n",
        "    return model\n",
        "\n",
        "# Crear el modelo\n",
        "model = build_model()\n",
        "\n",
        "# Mostrar el resumen del modelo\n",
        "model.summary()\n"
      ]
    },
    {
      "cell_type": "code",
      "execution_count": 140,
      "metadata": {
        "colab": {
          "base_uri": "https://localhost:8080/"
        },
        "id": "RRHaHsd2bY2x",
        "outputId": "871bb493-5a65-4b37-8e0b-741ff32d189d"
      },
      "outputs": [
        {
          "output_type": "stream",
          "name": "stdout",
          "text": [
            "Epoch 1/10\n",
            "6/6 [==============================] - 18s 2s/step - loss: 0.2158 - mae: 0.4517 - val_loss: 0.1867 - val_mae: 0.4184\n",
            "Epoch 2/10\n",
            "6/6 [==============================] - 12s 2s/step - loss: 0.2096 - mae: 0.4287 - val_loss: 0.1706 - val_mae: 0.3892\n",
            "Epoch 3/10\n",
            "6/6 [==============================] - 12s 2s/step - loss: 0.2073 - mae: 0.4225 - val_loss: 0.1687 - val_mae: 0.3850\n",
            "Epoch 4/10\n",
            "6/6 [==============================] - 14s 3s/step - loss: 0.2077 - mae: 0.4222 - val_loss: 0.1700 - val_mae: 0.3875\n",
            "Epoch 5/10\n",
            "6/6 [==============================] - 12s 2s/step - loss: 0.2076 - mae: 0.4216 - val_loss: 0.1683 - val_mae: 0.3839\n",
            "Epoch 6/10\n",
            "6/6 [==============================] - 12s 2s/step - loss: 0.2096 - mae: 0.4200 - val_loss: 0.1653 - val_mae: 0.3774\n",
            "Epoch 7/10\n",
            "6/6 [==============================] - 11s 2s/step - loss: 0.2084 - mae: 0.4261 - val_loss: 0.1827 - val_mae: 0.4103\n",
            "Epoch 8/10\n",
            "6/6 [==============================] - 12s 2s/step - loss: 0.2081 - mae: 0.4309 - val_loss: 0.1815 - val_mae: 0.4082\n",
            "Epoch 9/10\n",
            "6/6 [==============================] - 12s 2s/step - loss: 0.2076 - mae: 0.4303 - val_loss: 0.1806 - val_mae: 0.4065\n",
            "Epoch 10/10\n",
            "6/6 [==============================] - 12s 2s/step - loss: 0.2073 - mae: 0.4275 - val_loss: 0.1730 - val_mae: 0.3924\n"
          ]
        }
      ],
      "source": [
        "history = model.fit(X_train, y_train, epochs=10, batch_size=16, validation_data=(X_test, y_test))"
      ]
    },
    {
      "cell_type": "code",
      "source": [
        "loss = history.history['loss']\n",
        "mae = history.history['mae']\n",
        "val_loss = history.history['val_loss']\n",
        "val_mae = history.history['val_mae']\n",
        "\n",
        "plt.figure(figsize=(10, 5))\n",
        "\n",
        "plt.plot(loss, label='Training Loss')\n",
        "plt.plot(mae, label='Training MAE')\n",
        "plt.plot(val_loss, label='Validation Loss')\n",
        "plt.plot(val_mae, label='Validation MAE')\n",
        "\n",
        "plt.xlabel('Epoch')\n",
        "plt.ylabel('Value')\n",
        "plt.title('Training and Validation Loss / MAE')\n",
        "plt.legend()\n",
        "\n",
        "plt.tight_layout()\n",
        "plt.show()"
      ],
      "metadata": {
        "colab": {
          "base_uri": "https://localhost:8080/",
          "height": 507
        },
        "id": "0PD-QMZTB_9H",
        "outputId": "db77a826-83bd-4a0b-cdae-efa2b74ac906"
      },
      "execution_count": 141,
      "outputs": [
        {
          "output_type": "display_data",
          "data": {
            "text/plain": [
              "<Figure size 1000x500 with 1 Axes>"
            ],
            "image/png": "[encoded data removed]"
          },
          "metadata": {}
        }
      ]
    },
    {
      "cell_type": "code",
      "execution_count": 142,
      "metadata": {
        "colab": {
          "base_uri": "https://localhost:8080/"
        },
        "id": "BdfhuVRebtd9",
        "outputId": "0b8bd4e6-df5c-47ed-8ac0-807abb0e832e"
      },
      "outputs": [
        {
          "output_type": "stream",
          "name": "stdout",
          "text": [
            "1/1 [==============================] - 1s 1s/step\n",
            "[0.6471468]          1.0\n",
            "[0.60935414]          1.0\n",
            "[0.84410757]          0.0\n",
            "[0.6542032]          1.0\n",
            "[0.6449474]          1.0\n",
            "[0.6268801]          1.0\n",
            "[0.6304275]          1.0\n",
            "[0.59261227]          0.0\n",
            "[0.63459593]          0.0\n",
            "[0.6280163]          0.83178806\n",
            "[0.64136297]          0.83178806\n",
            "[0.61566]          1.0\n",
            "[0.65687615]          1.0\n",
            "[0.6293822]          1.0\n",
            "[0.6570616]          1.0\n",
            "[0.65738004]          1.0\n",
            "[0.65590703]          1.0\n",
            "[0.62892735]          1.0\n",
            "[0.64953256]          1.0\n",
            "[0.64121383]          1.0\n",
            "[0.619577]          1.0\n"
          ]
        }
      ],
      "source": [
        "y_pred = model.predict(X_test)\n",
        "for i in range(len(y_pred)):\n",
        "  print(y_pred[i],\"        \", y_test[i])"
      ]
    }
  ],
  "metadata": {
    "colab": {
      "provenance": []
    },
    "kernelspec": {
      "display_name": "Python 3",
      "name": "python3"
    },
    "language_info": {
      "name": "python"
    }
  },
  "nbformat": 4,
  "nbformat_minor": 0
}